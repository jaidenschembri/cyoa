{
  "cells": [
    {
      "cell_type": "code",
      "execution_count": null,
      "metadata": {
        "vscode": {
          "languageId": "plaintext"
        }
      },
      "outputs": [],
      "source": [
        "# 🌲 Pine Hollow Mystery - Baseline Experiment\n",
        "\n",
        "Testing GPT-2 baseline with Twin Peaks-inspired mystery data\n",
        "\n",
        "**Goal**: Compare how GPT-2 performs on mystery/thriller content vs anime content\n",
        "**Data**: Pine Hollow mystery scenarios with Twin Peaks dialogue patterns\n",
        "**Method**: Same pipeline as anime experiment, but with mystery theme\n"
      ]
    },
    {
      "cell_type": "code",
      "execution_count": null,
      "metadata": {},
      "outputs": [],
      "source": [
        "# Import libraries\n",
        "import pandas as pd\n",
        "import mlflow\n",
        "import mlflow.transformers\n",
        "from transformers import GPT2LMHeadModel, GPT2Tokenizer, pipeline\n",
        "import torch\n",
        "from datetime import datetime\n",
        "import warnings\n",
        "warnings.filterwarnings('ignore')\n",
        "\n",
        "print(\"🌲 Starting Pine Hollow Mystery Experiment\")\n",
        "print(f\"⚡ Using device: {'GPU' if torch.cuda.is_available() else 'CPU'}\")\n"
      ]
    },
    {
      "cell_type": "code",
      "execution_count": null,
      "metadata": {},
      "outputs": [],
      "source": [
        "# Load our Pine Hollow mystery dataset\n",
        "mystery_df = pd.read_csv('data/pine_hollow_enhanced.csv')\n",
        "character_df = pd.read_csv('data/character_profiles.csv')\n",
        "\n",
        "print(f\"📚 Loaded {len(mystery_df)} mystery scenarios\")\n",
        "print(f\"🎭 Character profiles: {len(character_df)}\")\n",
        "print(\"\\n🔍 Mystery themes:\")\n",
        "print(mystery_df['branch_type'].value_counts())\n",
        "print(\"\\n🎬 Dialogue styles:\")\n",
        "print(mystery_df['dialogue_style'].value_counts())\n"
      ]
    }
  ],
  "metadata": {
    "language_info": {
      "name": "python"
    }
  },
  "nbformat": 4,
  "nbformat_minor": 2
}
